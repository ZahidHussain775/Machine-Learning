{
 "cells": [
  {
   "cell_type": "code",
   "execution_count": 1,
   "id": "97b40323",
   "metadata": {},
   "outputs": [
    {
     "name": "stdout",
     "output_type": "stream",
     "text": [
      "Original DataFrame\n",
      "    Name   Age Salary\n",
      "0  Latki    25   5000\n",
      "1    A.b  None   6000\n",
      "2  Irfan    44   7000\n",
      "3  Hasni    23   None\n",
      "4  Ather  None   None\n",
      "Name       0.0\n",
      "Age       40.0\n",
      "Salary    40.0\n",
      "dtype: float64\n",
      "Name      0\n",
      "Age       2\n",
      "Salary    2\n",
      "dtype: int64\n",
      "    Name Age Salary\n",
      "0  Latki  25   5000\n",
      "2  Irfan  44   7000\n",
      "age mean  30.666666666666668\n",
      "salary mena 6000.0\n",
      "    Name        Age  Salary\n",
      "0  Latki  25.000000  5000.0\n",
      "1    A.b  30.666667  6000.0\n",
      "2  Irfan  44.000000  7000.0\n",
      "3  Hasni  23.000000  6000.0\n",
      "4  Ather  30.666667  6000.0\n"
     ]
    }
   ],
   "source": [
    "import pandas as pd\n",
    "\n",
    "data = {\n",
    "    'Name':['Latki','A.b','Irfan','Hasni','Ather'],\n",
    "    'Age':['25', None,'44','23',None],\n",
    "    'Salary': ['5000','6000','7000',None,None]\n",
    "}\n",
    "\n",
    "\n",
    "df = pd.DataFrame(data)\n",
    "print(\"Original DataFrame\")\n",
    "print(df)\n",
    "\n",
    "\n",
    "\n",
    "#how much % of that is missing\n",
    "print(df.isnull().mean()*100)\n",
    "\n",
    "\n",
    "# Print the number of missing (NaN) values in each column\n",
    "print(df.isnull().sum())\n",
    "\n",
    "# Drop all rows that contain at least one missing value\n",
    "df_drop = df.dropna()\n",
    "\n",
    "# Print the DataFrame after dropping missing values\n",
    "print(df_drop)\n",
    "\n",
    "\n",
    "# Convert columns to numeric (force errors to NaN)\n",
    "df['Age'] = pd.to_numeric(df['Age'], errors='coerce')\n",
    "df['Salary'] = pd.to_numeric(df['Salary'], errors='coerce')\n",
    "\n",
    "# Fill missing values safely by reassigning (no inplace warning)\n",
    "df['Age'] = df['Age'].fillna(df['Age'].mean())\n",
    "df['Salary'] = df['Salary'].fillna(df['Salary'].mean())\n",
    "\n",
    "print(\"age mean \",df['Age'].mean())\n",
    "print(\"salary mena\",df['Salary'].mean())\n",
    "print(df)"
   ]
  },
  {
   "cell_type": "code",
   "execution_count": null,
   "id": "68c6b5e8",
   "metadata": {},
   "outputs": [],
   "source": []
  }
 ],
 "metadata": {
  "kernelspec": {
   "display_name": "Python 3",
   "language": "python",
   "name": "python3"
  },
  "language_info": {
   "codemirror_mode": {
    "name": "ipython",
    "version": 3
   },
   "file_extension": ".py",
   "mimetype": "text/x-python",
   "name": "python",
   "nbconvert_exporter": "python",
   "pygments_lexer": "ipython3",
   "version": "3.13.2"
  }
 },
 "nbformat": 4,
 "nbformat_minor": 5
}
